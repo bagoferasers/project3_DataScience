{
 "cells": [
  {
   "cell_type": "code",
   "execution_count": 175,
   "metadata": {},
   "outputs": [
    {
     "data": {
      "text/plain": [
       "'\\nColby Bailey\\ndata science summer 2023\\nUTSA Student ID: nib667\\n'"
      ]
     },
     "execution_count": 175,
     "metadata": {},
     "output_type": "execute_result"
    }
   ],
   "source": [
    "\"\"\"\n",
    "Colby Bailey\n",
    "data science summer 2023\n",
    "UTSA Student ID: nib667\n",
    "\"\"\" "
   ]
  },
  {
   "cell_type": "code",
   "execution_count": 176,
   "metadata": {},
   "outputs": [],
   "source": [
    "# All imports\n",
    "import zipfile\n",
    "import os\n",
    "import pandas as pd\n",
    "import matplotlib.pyplot as pp"
   ]
  },
  {
   "cell_type": "code",
   "execution_count": 177,
   "metadata": {},
   "outputs": [],
   "source": [
    "# TASK 1"
   ]
  },
  {
   "cell_type": "code",
   "execution_count": 178,
   "metadata": {},
   "outputs": [
    {
     "data": {
      "text/plain": [
       "['yob2000.txt',\n",
       " 'yob2014.txt',\n",
       " 'yob1938.txt',\n",
       " 'yob1910.txt',\n",
       " 'yob1904.txt',\n",
       " 'yob1905.txt',\n",
       " 'yob1911.txt',\n",
       " 'yob1939.txt',\n",
       " 'yob2001.txt',\n",
       " 'yob2003.txt',\n",
       " 'yob1907.txt',\n",
       " 'yob1913.txt',\n",
       " 'yob1898.txt',\n",
       " 'yob1899.txt',\n",
       " 'yob1912.txt',\n",
       " 'yob1906.txt',\n",
       " 'yob2002.txt',\n",
       " 'yob2012.txt',\n",
       " 'yob2006.txt',\n",
       " 'yob1902.txt',\n",
       " 'yob1916.txt',\n",
       " 'yob1889.txt',\n",
       " 'yob1888.txt',\n",
       " 'yob1917.txt',\n",
       " 'yob1903.txt',\n",
       " 'yob2007.txt',\n",
       " 'yob2013.txt',\n",
       " 'yob2005.txt',\n",
       " 'yob2011.txt',\n",
       " 'yob1915.txt',\n",
       " 'yob1901.txt',\n",
       " 'yob1929.txt',\n",
       " 'yob1928.txt',\n",
       " 'yob1900.txt',\n",
       " 'yob1914.txt',\n",
       " 'yob2010.txt',\n",
       " 'yob2004.txt',\n",
       " 'yob1973.txt',\n",
       " 'yob1967.txt',\n",
       " 'yob1998.txt',\n",
       " 'yob1999.txt',\n",
       " 'yob1966.txt',\n",
       " 'yob1972.txt',\n",
       " 'yob1958.txt',\n",
       " 'yob1964.txt',\n",
       " 'yob1970.txt',\n",
       " 'yob1971.txt',\n",
       " 'yob1965.txt',\n",
       " 'yob1959.txt',\n",
       " 'yob1961.txt',\n",
       " 'yob1975.txt',\n",
       " 'yob1949.txt',\n",
       " 'yob1948.txt',\n",
       " 'yob1974.txt',\n",
       " 'yob1960.txt',\n",
       " 'yob1976.txt',\n",
       " 'yob1962.txt',\n",
       " 'yob1989.txt',\n",
       " 'yob1988.txt',\n",
       " 'yob1963.txt',\n",
       " 'yob1977.txt',\n",
       " 'yob1952.txt',\n",
       " 'yob1946.txt',\n",
       " 'yob1991.txt',\n",
       " 'yob1985.txt',\n",
       " 'yob1984.txt',\n",
       " 'yob1990.txt',\n",
       " 'yob1947.txt',\n",
       " 'yob1953.txt',\n",
       " 'yob1979.txt',\n",
       " 'yob1945.txt',\n",
       " 'yob1951.txt',\n",
       " 'yob1986.txt',\n",
       " 'yob1992.txt',\n",
       " 'yob1993.txt',\n",
       " 'yob1987.txt',\n",
       " 'yob1950.txt',\n",
       " 'yob1944.txt',\n",
       " 'yob1978.txt',\n",
       " 'yob1940.txt',\n",
       " 'yob1954.txt',\n",
       " 'yob1968.txt',\n",
       " 'yob1983.txt',\n",
       " 'yob1997.txt',\n",
       " 'yob1996.txt',\n",
       " 'yob1982.txt',\n",
       " 'yob1969.txt',\n",
       " 'yob1955.txt',\n",
       " 'yob1941.txt',\n",
       " 'yob1957.txt',\n",
       " 'yob1943.txt',\n",
       " 'yob1994.txt',\n",
       " 'yob1980.txt',\n",
       " 'yob1981.txt',\n",
       " 'yob1995.txt',\n",
       " 'yob1942.txt',\n",
       " 'yob1956.txt',\n",
       " 'yob2009.txt',\n",
       " 'yob1919.txt',\n",
       " 'yob1931.txt',\n",
       " 'yob1925.txt',\n",
       " 'yob1886.txt',\n",
       " 'yob1892.txt',\n",
       " 'yob1893.txt',\n",
       " 'yob1887.txt',\n",
       " 'yob1924.txt',\n",
       " 'yob1930.txt',\n",
       " 'yob1918.txt',\n",
       " 'yob2008.txt',\n",
       " 'yob1926.txt',\n",
       " 'yob1932.txt',\n",
       " 'yob1891.txt',\n",
       " 'yob1885.txt',\n",
       " 'NationalReadMe.pdf',\n",
       " 'yob1884.txt',\n",
       " 'yob1890.txt',\n",
       " 'yob1933.txt',\n",
       " 'yob1927.txt',\n",
       " 'yob1923.txt',\n",
       " 'yob1937.txt',\n",
       " 'yob1894.txt',\n",
       " 'yob1880.txt',\n",
       " 'yob1881.txt',\n",
       " 'yob1895.txt',\n",
       " 'yob1936.txt',\n",
       " 'yob1922.txt',\n",
       " 'yob1934.txt',\n",
       " 'yob1920.txt',\n",
       " 'yob1908.txt',\n",
       " 'yob1883.txt',\n",
       " 'yob1897.txt',\n",
       " 'yob1896.txt',\n",
       " 'yob1882.txt',\n",
       " 'yob1909.txt',\n",
       " 'yob1921.txt',\n",
       " 'yob1935.txt']"
      ]
     },
     "execution_count": 178,
     "metadata": {},
     "output_type": "execute_result"
    }
   ],
   "source": [
    "# Extract file and list what was inside\n",
    "zipfile.ZipFile( 'names.zip' ).extractall( '.' )\n",
    "os.listdir( 'names' )"
   ]
  },
  {
   "cell_type": "code",
   "execution_count": 179,
   "metadata": {},
   "outputs": [],
   "source": [
    "\"\"\"\n",
    "Loop through years. Read file name with formatted string literal. Read names\n",
    "from file name into respective year and categories. Apply year to current, and\n",
    "then append to allyears dataframe.\n",
    "\"\"\"\n",
    "allyears = []\n",
    "for year in range( 1880, 2015 ):\n",
    "    file = 'yob' + f'{ year }' + \".txt\" \n",
    "    current = pd.read_csv( ( 'names/' + f'{file}' ), names=[ 'name', 'sex', 'number' ] )\n",
    "    current[ 'year' ] = year\n",
    "    allyears.append( current )"
   ]
  },
  {
   "cell_type": "code",
   "execution_count": 180,
   "metadata": {},
   "outputs": [],
   "source": [
    "# Concatinate all DataFrames into a single one and store in allyears\n",
    "allyears = pd.concat( allyears )"
   ]
  },
  {
   "cell_type": "code",
   "execution_count": 181,
   "metadata": {},
   "outputs": [
    {
     "data": {
      "text/html": [
       "<div>\n",
       "<style scoped>\n",
       "    .dataframe tbody tr th:only-of-type {\n",
       "        vertical-align: middle;\n",
       "    }\n",
       "\n",
       "    .dataframe tbody tr th {\n",
       "        vertical-align: top;\n",
       "    }\n",
       "\n",
       "    .dataframe thead th {\n",
       "        text-align: right;\n",
       "    }\n",
       "</style>\n",
       "<table border=\"1\" class=\"dataframe\">\n",
       "  <thead>\n",
       "    <tr style=\"text-align: right;\">\n",
       "      <th></th>\n",
       "      <th>name</th>\n",
       "      <th>sex</th>\n",
       "      <th>number</th>\n",
       "      <th>year</th>\n",
       "    </tr>\n",
       "  </thead>\n",
       "  <tbody>\n",
       "    <tr>\n",
       "      <th>0</th>\n",
       "      <td>Mary</td>\n",
       "      <td>F</td>\n",
       "      <td>7065</td>\n",
       "      <td>1880</td>\n",
       "    </tr>\n",
       "    <tr>\n",
       "      <th>1</th>\n",
       "      <td>Anna</td>\n",
       "      <td>F</td>\n",
       "      <td>2604</td>\n",
       "      <td>1880</td>\n",
       "    </tr>\n",
       "    <tr>\n",
       "      <th>2</th>\n",
       "      <td>Emma</td>\n",
       "      <td>F</td>\n",
       "      <td>2003</td>\n",
       "      <td>1880</td>\n",
       "    </tr>\n",
       "    <tr>\n",
       "      <th>3</th>\n",
       "      <td>Elizabeth</td>\n",
       "      <td>F</td>\n",
       "      <td>1939</td>\n",
       "      <td>1880</td>\n",
       "    </tr>\n",
       "    <tr>\n",
       "      <th>4</th>\n",
       "      <td>Minnie</td>\n",
       "      <td>F</td>\n",
       "      <td>1746</td>\n",
       "      <td>1880</td>\n",
       "    </tr>\n",
       "  </tbody>\n",
       "</table>\n",
       "</div>"
      ],
      "text/plain": [
       "        name sex  number  year\n",
       "0       Mary   F    7065  1880\n",
       "1       Anna   F    2604  1880\n",
       "2       Emma   F    2003  1880\n",
       "3  Elizabeth   F    1939  1880\n",
       "4     Minnie   F    1746  1880"
      ]
     },
     "execution_count": 181,
     "metadata": {},
     "output_type": "execute_result"
    }
   ],
   "source": [
    "# Output head of allyears DataFrame\n",
    "allyears.head( )"
   ]
  },
  {
   "cell_type": "code",
   "execution_count": 182,
   "metadata": {},
   "outputs": [
    {
     "data": {
      "text/html": [
       "<div>\n",
       "<style scoped>\n",
       "    .dataframe tbody tr th:only-of-type {\n",
       "        vertical-align: middle;\n",
       "    }\n",
       "\n",
       "    .dataframe tbody tr th {\n",
       "        vertical-align: top;\n",
       "    }\n",
       "\n",
       "    .dataframe thead th {\n",
       "        text-align: right;\n",
       "    }\n",
       "</style>\n",
       "<table border=\"1\" class=\"dataframe\">\n",
       "  <thead>\n",
       "    <tr style=\"text-align: right;\">\n",
       "      <th></th>\n",
       "      <th>name</th>\n",
       "      <th>sex</th>\n",
       "      <th>number</th>\n",
       "      <th>year</th>\n",
       "    </tr>\n",
       "  </thead>\n",
       "  <tbody>\n",
       "    <tr>\n",
       "      <th>33039</th>\n",
       "      <td>Zykeem</td>\n",
       "      <td>M</td>\n",
       "      <td>5</td>\n",
       "      <td>2014</td>\n",
       "    </tr>\n",
       "    <tr>\n",
       "      <th>33040</th>\n",
       "      <td>Zymeer</td>\n",
       "      <td>M</td>\n",
       "      <td>5</td>\n",
       "      <td>2014</td>\n",
       "    </tr>\n",
       "    <tr>\n",
       "      <th>33041</th>\n",
       "      <td>Zymiere</td>\n",
       "      <td>M</td>\n",
       "      <td>5</td>\n",
       "      <td>2014</td>\n",
       "    </tr>\n",
       "    <tr>\n",
       "      <th>33042</th>\n",
       "      <td>Zyran</td>\n",
       "      <td>M</td>\n",
       "      <td>5</td>\n",
       "      <td>2014</td>\n",
       "    </tr>\n",
       "    <tr>\n",
       "      <th>33043</th>\n",
       "      <td>Zyrin</td>\n",
       "      <td>M</td>\n",
       "      <td>5</td>\n",
       "      <td>2014</td>\n",
       "    </tr>\n",
       "  </tbody>\n",
       "</table>\n",
       "</div>"
      ],
      "text/plain": [
       "          name sex  number  year\n",
       "33039   Zykeem   M       5  2014\n",
       "33040   Zymeer   M       5  2014\n",
       "33041  Zymiere   M       5  2014\n",
       "33042    Zyran   M       5  2014\n",
       "33043    Zyrin   M       5  2014"
      ]
     },
     "execution_count": 182,
     "metadata": {},
     "output_type": "execute_result"
    }
   ],
   "source": [
    "# Output tail of allyears DataFrame\n",
    "allyears.tail( )"
   ]
  },
  {
   "cell_type": "code",
   "execution_count": 183,
   "metadata": {},
   "outputs": [],
   "source": [
    "# TASK 2"
   ]
  },
  {
   "cell_type": "code",
   "execution_count": 184,
   "metadata": {},
   "outputs": [],
   "source": [
    "\"\"\"\n",
    "Sort the years by sex and name and them group them by calculating the sum\n",
    "of the # column. Then use the unstack() method on the result by the\n",
    "'sex' column to get # times each name was used per sex\n",
    "\"\"\"\n",
    "\n",
    "allyears_indexed = allyears.set_index( [ 'sex', 'name' ] ).sort_index( )\n",
    "totals_bysex = allyears.groupby( [ 'sex', 'name' ] )[ 'number' ].sum( )\n",
    "totals_bysex = totals_bysex.unstack( 'sex' )"
   ]
  },
  {
   "cell_type": "code",
   "execution_count": 185,
   "metadata": {},
   "outputs": [
    {
     "name": "stdout",
     "output_type": "stream",
     "text": [
      "sex           F      M\n",
      "name                  \n",
      "Aaban       NaN   72.0\n",
      "Aabha      21.0    NaN\n",
      "Aabid       NaN    5.0\n",
      "Aabriella  10.0    NaN\n",
      "Aadam       NaN  196.0\n"
     ]
    }
   ],
   "source": [
    "# Output the first five rows of the resulting DataFrame\n",
    "print(totals_bysex.head( 5 ) )"
   ]
  },
  {
   "cell_type": "code",
   "execution_count": null,
   "metadata": {},
   "outputs": [],
   "source": []
  }
 ],
 "metadata": {
  "kernelspec": {
   "display_name": "Python 3",
   "language": "python",
   "name": "python3"
  },
  "language_info": {
   "codemirror_mode": {
    "name": "ipython",
    "version": 3
   },
   "file_extension": ".py",
   "mimetype": "text/x-python",
   "name": "python",
   "nbconvert_exporter": "python",
   "pygments_lexer": "ipython3",
   "version": "3.10.10"
  },
  "orig_nbformat": 4
 },
 "nbformat": 4,
 "nbformat_minor": 2
}
